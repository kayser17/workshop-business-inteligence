{
  "cells": [
    {
      "cell_type": "markdown",
      "metadata": {
        "id": "Nx3N3nlNarDi"
      },
      "source": [
        "The next cell downloads the required data set to carry out the workshop. This kind of code works on Google Colab, and if you are using another platform to run the notebook, you might need to manually download the data directory from the GitHub repository and put it in the same path as the notebook file."
      ]
    },
    {
      "cell_type": "code",
      "execution_count": 1,
      "metadata": {
        "colab": {
          "base_uri": "https://localhost:8080/"
        },
        "id": "006FlAn3arDj",
        "outputId": "3136f96a-3a0f-44fd-e3eb-69f5de146d9f"
      },
      "outputs": [
        {
          "output_type": "stream",
          "name": "stdout",
          "text": [
            "  % Total    % Received % Xferd  Average Speed   Time    Time     Time  Current\n",
            "                                 Dload  Upload   Total   Spent    Left  Speed\n",
            "100 1516k  100 1516k    0     0  3206k      0 --:--:-- --:--:-- --:--:-- 3212k\n"
          ]
        }
      ],
      "source": [
        "!curl https://raw.githubusercontent.com/APSV-UPM/BusinessIntelligence/main/data/data.csv > data.csv"
      ]
    },
    {
      "cell_type": "markdown",
      "metadata": {
        "id": "xLdM16usarDk"
      },
      "source": [
        "In this workshop, we will work with a data set representing a logistics process. These data contain events from a logistics process in which a series of goods or items are transported from one station to another by train. It is based on a real-world process, but it has been simplified to make it easier to work with.\n",
        "Each step in the process is represented by an event, and the events have a timestamp that represents when the event was recorded. The types of events appear in Spanish; the following table is a translation of these into English.\n",
        "\n",
        "Spanish | English\n",
        "---|---\n",
        "'Comienzo de ruta'         | 'START OF ROUTE'\n",
        "'Descarga de vagones'      | 'END OF WAGON UNLOADING'\n",
        "'Final carga'              | 'END OF WAGON LOADING'\n",
        "'Final de ruta'            | 'END OF ROUTE'\n",
        "'Llegada de vagones'       | 'ARRIVAL OF WAGONS TO DESTINATION'\n",
        "'Salida de vagones'        | 'DEPARTURE OF WAGONS FROM ORIGIN'\n",
        "\n",
        "Our goal is to obtain as much information as we can from this data set. We will achieve this in two ways: we will answer questions with numeric values (e.g., how many trains take part in the process?) or we will generate some charts to present information in a visual way (e.g. how is the distribution of items transported throughout the year?)\n"
      ]
    },
    {
      "cell_type": "code",
      "execution_count": 3,
      "metadata": {
        "id": "SOrv7W13arDk"
      },
      "outputs": [],
      "source": [
        "import pandas as pd\n",
        "import matplotlib.pyplot as plt\n",
        "import seaborn as sns\n",
        "import datetime\n",
        "df = pd.read_csv(\"data.csv\")"
      ]
    },
    {
      "cell_type": "markdown",
      "metadata": {
        "id": "YOFNJFaVarDl"
      },
      "source": [
        "# Dataset exploration\n",
        "Any project related to data analysis starts with a study of the data itself.\n",
        "* What kind of data do we have?\n",
        "* How is it organized? How many columns does each dataframe have?\n",
        "* Are there wrong or missing values?\n",
        "* What does each value of a column mean? How many different values are there in each column?\n",
        "\n",
        "With the examples we saw in the previous workshop we try to answer those questions."
      ]
    },
    {
      "cell_type": "code",
      "execution_count": 4,
      "metadata": {
        "colab": {
          "base_uri": "https://localhost:8080/",
          "height": 206
        },
        "id": "0ay-UvcharDl",
        "outputId": "0e39924a-f4b7-4e5f-d345-5ea37ebdbd85"
      },
      "outputs": [
        {
          "output_type": "execute_result",
          "data": {
            "text/plain": [
              "   Unnamed: 0     trip_id train_name                 date  cargo station_id  \\\n",
              "0           0  93OBAJQT4H      VXRCS  2025-04-02 10:57:44   24.0  station_B   \n",
              "1           1  95DWY7U00J      VXRCS  2024-09-18 14:29:50    0.0  station_E   \n",
              "2           2  G2IJESVUP4      UDAXI  2025-06-25 18:00:00    0.0  station_A   \n",
              "3           3  OTSN5U4W9R      VXRCS  2024-09-06 13:16:24    0.0  station_D   \n",
              "4           4  87C7G23CP7      HHEXD  2025-02-06 15:21:28    0.0  station_G   \n",
              "\n",
              "                 event   cargo_type  fuel_level  ended  \n",
              "0  Descarga de vagones     Textiles    1146.000   True  \n",
              "1  Descarga de vagones    Machinery       0.000   True  \n",
              "2     Comienzo de ruta            _     590.056   True  \n",
              "3   Llegada de vagones  Electronics    1031.616   True  \n",
              "4   Llegada de vagones    Machinery     179.750   True  "
            ],
            "text/html": [
              "\n",
              "  <div id=\"df-c5bdad33-a924-4195-9547-d434e52ae88a\" class=\"colab-df-container\">\n",
              "    <div>\n",
              "<style scoped>\n",
              "    .dataframe tbody tr th:only-of-type {\n",
              "        vertical-align: middle;\n",
              "    }\n",
              "\n",
              "    .dataframe tbody tr th {\n",
              "        vertical-align: top;\n",
              "    }\n",
              "\n",
              "    .dataframe thead th {\n",
              "        text-align: right;\n",
              "    }\n",
              "</style>\n",
              "<table border=\"1\" class=\"dataframe\">\n",
              "  <thead>\n",
              "    <tr style=\"text-align: right;\">\n",
              "      <th></th>\n",
              "      <th>Unnamed: 0</th>\n",
              "      <th>trip_id</th>\n",
              "      <th>train_name</th>\n",
              "      <th>date</th>\n",
              "      <th>cargo</th>\n",
              "      <th>station_id</th>\n",
              "      <th>event</th>\n",
              "      <th>cargo_type</th>\n",
              "      <th>fuel_level</th>\n",
              "      <th>ended</th>\n",
              "    </tr>\n",
              "  </thead>\n",
              "  <tbody>\n",
              "    <tr>\n",
              "      <th>0</th>\n",
              "      <td>0</td>\n",
              "      <td>93OBAJQT4H</td>\n",
              "      <td>VXRCS</td>\n",
              "      <td>2025-04-02 10:57:44</td>\n",
              "      <td>24.0</td>\n",
              "      <td>station_B</td>\n",
              "      <td>Descarga de vagones</td>\n",
              "      <td>Textiles</td>\n",
              "      <td>1146.000</td>\n",
              "      <td>True</td>\n",
              "    </tr>\n",
              "    <tr>\n",
              "      <th>1</th>\n",
              "      <td>1</td>\n",
              "      <td>95DWY7U00J</td>\n",
              "      <td>VXRCS</td>\n",
              "      <td>2024-09-18 14:29:50</td>\n",
              "      <td>0.0</td>\n",
              "      <td>station_E</td>\n",
              "      <td>Descarga de vagones</td>\n",
              "      <td>Machinery</td>\n",
              "      <td>0.000</td>\n",
              "      <td>True</td>\n",
              "    </tr>\n",
              "    <tr>\n",
              "      <th>2</th>\n",
              "      <td>2</td>\n",
              "      <td>G2IJESVUP4</td>\n",
              "      <td>UDAXI</td>\n",
              "      <td>2025-06-25 18:00:00</td>\n",
              "      <td>0.0</td>\n",
              "      <td>station_A</td>\n",
              "      <td>Comienzo de ruta</td>\n",
              "      <td>_</td>\n",
              "      <td>590.056</td>\n",
              "      <td>True</td>\n",
              "    </tr>\n",
              "    <tr>\n",
              "      <th>3</th>\n",
              "      <td>3</td>\n",
              "      <td>OTSN5U4W9R</td>\n",
              "      <td>VXRCS</td>\n",
              "      <td>2024-09-06 13:16:24</td>\n",
              "      <td>0.0</td>\n",
              "      <td>station_D</td>\n",
              "      <td>Llegada de vagones</td>\n",
              "      <td>Electronics</td>\n",
              "      <td>1031.616</td>\n",
              "      <td>True</td>\n",
              "    </tr>\n",
              "    <tr>\n",
              "      <th>4</th>\n",
              "      <td>4</td>\n",
              "      <td>87C7G23CP7</td>\n",
              "      <td>HHEXD</td>\n",
              "      <td>2025-02-06 15:21:28</td>\n",
              "      <td>0.0</td>\n",
              "      <td>station_G</td>\n",
              "      <td>Llegada de vagones</td>\n",
              "      <td>Machinery</td>\n",
              "      <td>179.750</td>\n",
              "      <td>True</td>\n",
              "    </tr>\n",
              "  </tbody>\n",
              "</table>\n",
              "</div>\n",
              "    <div class=\"colab-df-buttons\">\n",
              "\n",
              "  <div class=\"colab-df-container\">\n",
              "    <button class=\"colab-df-convert\" onclick=\"convertToInteractive('df-c5bdad33-a924-4195-9547-d434e52ae88a')\"\n",
              "            title=\"Convert this dataframe to an interactive table.\"\n",
              "            style=\"display:none;\">\n",
              "\n",
              "  <svg xmlns=\"http://www.w3.org/2000/svg\" height=\"24px\" viewBox=\"0 -960 960 960\">\n",
              "    <path d=\"M120-120v-720h720v720H120Zm60-500h600v-160H180v160Zm220 220h160v-160H400v160Zm0 220h160v-160H400v160ZM180-400h160v-160H180v160Zm440 0h160v-160H620v160ZM180-180h160v-160H180v160Zm440 0h160v-160H620v160Z\"/>\n",
              "  </svg>\n",
              "    </button>\n",
              "\n",
              "  <style>\n",
              "    .colab-df-container {\n",
              "      display:flex;\n",
              "      gap: 12px;\n",
              "    }\n",
              "\n",
              "    .colab-df-convert {\n",
              "      background-color: #E8F0FE;\n",
              "      border: none;\n",
              "      border-radius: 50%;\n",
              "      cursor: pointer;\n",
              "      display: none;\n",
              "      fill: #1967D2;\n",
              "      height: 32px;\n",
              "      padding: 0 0 0 0;\n",
              "      width: 32px;\n",
              "    }\n",
              "\n",
              "    .colab-df-convert:hover {\n",
              "      background-color: #E2EBFA;\n",
              "      box-shadow: 0px 1px 2px rgba(60, 64, 67, 0.3), 0px 1px 3px 1px rgba(60, 64, 67, 0.15);\n",
              "      fill: #174EA6;\n",
              "    }\n",
              "\n",
              "    .colab-df-buttons div {\n",
              "      margin-bottom: 4px;\n",
              "    }\n",
              "\n",
              "    [theme=dark] .colab-df-convert {\n",
              "      background-color: #3B4455;\n",
              "      fill: #D2E3FC;\n",
              "    }\n",
              "\n",
              "    [theme=dark] .colab-df-convert:hover {\n",
              "      background-color: #434B5C;\n",
              "      box-shadow: 0px 1px 3px 1px rgba(0, 0, 0, 0.15);\n",
              "      filter: drop-shadow(0px 1px 2px rgba(0, 0, 0, 0.3));\n",
              "      fill: #FFFFFF;\n",
              "    }\n",
              "  </style>\n",
              "\n",
              "    <script>\n",
              "      const buttonEl =\n",
              "        document.querySelector('#df-c5bdad33-a924-4195-9547-d434e52ae88a button.colab-df-convert');\n",
              "      buttonEl.style.display =\n",
              "        google.colab.kernel.accessAllowed ? 'block' : 'none';\n",
              "\n",
              "      async function convertToInteractive(key) {\n",
              "        const element = document.querySelector('#df-c5bdad33-a924-4195-9547-d434e52ae88a');\n",
              "        const dataTable =\n",
              "          await google.colab.kernel.invokeFunction('convertToInteractive',\n",
              "                                                    [key], {});\n",
              "        if (!dataTable) return;\n",
              "\n",
              "        const docLinkHtml = 'Like what you see? Visit the ' +\n",
              "          '<a target=\"_blank\" href=https://colab.research.google.com/notebooks/data_table.ipynb>data table notebook</a>'\n",
              "          + ' to learn more about interactive tables.';\n",
              "        element.innerHTML = '';\n",
              "        dataTable['output_type'] = 'display_data';\n",
              "        await google.colab.output.renderOutput(dataTable, element);\n",
              "        const docLink = document.createElement('div');\n",
              "        docLink.innerHTML = docLinkHtml;\n",
              "        element.appendChild(docLink);\n",
              "      }\n",
              "    </script>\n",
              "  </div>\n",
              "\n",
              "\n",
              "    <div id=\"df-45251500-710b-4980-9a02-5b68c29572f9\">\n",
              "      <button class=\"colab-df-quickchart\" onclick=\"quickchart('df-45251500-710b-4980-9a02-5b68c29572f9')\"\n",
              "                title=\"Suggest charts\"\n",
              "                style=\"display:none;\">\n",
              "\n",
              "<svg xmlns=\"http://www.w3.org/2000/svg\" height=\"24px\"viewBox=\"0 0 24 24\"\n",
              "     width=\"24px\">\n",
              "    <g>\n",
              "        <path d=\"M19 3H5c-1.1 0-2 .9-2 2v14c0 1.1.9 2 2 2h14c1.1 0 2-.9 2-2V5c0-1.1-.9-2-2-2zM9 17H7v-7h2v7zm4 0h-2V7h2v10zm4 0h-2v-4h2v4z\"/>\n",
              "    </g>\n",
              "</svg>\n",
              "      </button>\n",
              "\n",
              "<style>\n",
              "  .colab-df-quickchart {\n",
              "      --bg-color: #E8F0FE;\n",
              "      --fill-color: #1967D2;\n",
              "      --hover-bg-color: #E2EBFA;\n",
              "      --hover-fill-color: #174EA6;\n",
              "      --disabled-fill-color: #AAA;\n",
              "      --disabled-bg-color: #DDD;\n",
              "  }\n",
              "\n",
              "  [theme=dark] .colab-df-quickchart {\n",
              "      --bg-color: #3B4455;\n",
              "      --fill-color: #D2E3FC;\n",
              "      --hover-bg-color: #434B5C;\n",
              "      --hover-fill-color: #FFFFFF;\n",
              "      --disabled-bg-color: #3B4455;\n",
              "      --disabled-fill-color: #666;\n",
              "  }\n",
              "\n",
              "  .colab-df-quickchart {\n",
              "    background-color: var(--bg-color);\n",
              "    border: none;\n",
              "    border-radius: 50%;\n",
              "    cursor: pointer;\n",
              "    display: none;\n",
              "    fill: var(--fill-color);\n",
              "    height: 32px;\n",
              "    padding: 0;\n",
              "    width: 32px;\n",
              "  }\n",
              "\n",
              "  .colab-df-quickchart:hover {\n",
              "    background-color: var(--hover-bg-color);\n",
              "    box-shadow: 0 1px 2px rgba(60, 64, 67, 0.3), 0 1px 3px 1px rgba(60, 64, 67, 0.15);\n",
              "    fill: var(--button-hover-fill-color);\n",
              "  }\n",
              "\n",
              "  .colab-df-quickchart-complete:disabled,\n",
              "  .colab-df-quickchart-complete:disabled:hover {\n",
              "    background-color: var(--disabled-bg-color);\n",
              "    fill: var(--disabled-fill-color);\n",
              "    box-shadow: none;\n",
              "  }\n",
              "\n",
              "  .colab-df-spinner {\n",
              "    border: 2px solid var(--fill-color);\n",
              "    border-color: transparent;\n",
              "    border-bottom-color: var(--fill-color);\n",
              "    animation:\n",
              "      spin 1s steps(1) infinite;\n",
              "  }\n",
              "\n",
              "  @keyframes spin {\n",
              "    0% {\n",
              "      border-color: transparent;\n",
              "      border-bottom-color: var(--fill-color);\n",
              "      border-left-color: var(--fill-color);\n",
              "    }\n",
              "    20% {\n",
              "      border-color: transparent;\n",
              "      border-left-color: var(--fill-color);\n",
              "      border-top-color: var(--fill-color);\n",
              "    }\n",
              "    30% {\n",
              "      border-color: transparent;\n",
              "      border-left-color: var(--fill-color);\n",
              "      border-top-color: var(--fill-color);\n",
              "      border-right-color: var(--fill-color);\n",
              "    }\n",
              "    40% {\n",
              "      border-color: transparent;\n",
              "      border-right-color: var(--fill-color);\n",
              "      border-top-color: var(--fill-color);\n",
              "    }\n",
              "    60% {\n",
              "      border-color: transparent;\n",
              "      border-right-color: var(--fill-color);\n",
              "    }\n",
              "    80% {\n",
              "      border-color: transparent;\n",
              "      border-right-color: var(--fill-color);\n",
              "      border-bottom-color: var(--fill-color);\n",
              "    }\n",
              "    90% {\n",
              "      border-color: transparent;\n",
              "      border-bottom-color: var(--fill-color);\n",
              "    }\n",
              "  }\n",
              "</style>\n",
              "\n",
              "      <script>\n",
              "        async function quickchart(key) {\n",
              "          const quickchartButtonEl =\n",
              "            document.querySelector('#' + key + ' button');\n",
              "          quickchartButtonEl.disabled = true;  // To prevent multiple clicks.\n",
              "          quickchartButtonEl.classList.add('colab-df-spinner');\n",
              "          try {\n",
              "            const charts = await google.colab.kernel.invokeFunction(\n",
              "                'suggestCharts', [key], {});\n",
              "          } catch (error) {\n",
              "            console.error('Error during call to suggestCharts:', error);\n",
              "          }\n",
              "          quickchartButtonEl.classList.remove('colab-df-spinner');\n",
              "          quickchartButtonEl.classList.add('colab-df-quickchart-complete');\n",
              "        }\n",
              "        (() => {\n",
              "          let quickchartButtonEl =\n",
              "            document.querySelector('#df-45251500-710b-4980-9a02-5b68c29572f9 button');\n",
              "          quickchartButtonEl.style.display =\n",
              "            google.colab.kernel.accessAllowed ? 'block' : 'none';\n",
              "        })();\n",
              "      </script>\n",
              "    </div>\n",
              "\n",
              "    </div>\n",
              "  </div>\n"
            ],
            "application/vnd.google.colaboratory.intrinsic+json": {
              "type": "dataframe",
              "variable_name": "df",
              "summary": "{\n  \"name\": \"df\",\n  \"rows\": 15426,\n  \"fields\": [\n    {\n      \"column\": \"Unnamed: 0\",\n      \"properties\": {\n        \"dtype\": \"number\",\n        \"std\": 4453,\n        \"min\": 0,\n        \"max\": 15425,\n        \"num_unique_values\": 15426,\n        \"samples\": [\n          2183,\n          8061,\n          2616\n        ],\n        \"semantic_type\": \"\",\n        \"description\": \"\"\n      }\n    },\n    {\n      \"column\": \"trip_id\",\n      \"properties\": {\n        \"dtype\": \"category\",\n        \"num_unique_values\": 778,\n        \"samples\": [\n          \"90SJMVOYP5\",\n          \"7OODG0V4GI\",\n          \"E59NLC0QYP\"\n        ],\n        \"semantic_type\": \"\",\n        \"description\": \"\"\n      }\n    },\n    {\n      \"column\": \"train_name\",\n      \"properties\": {\n        \"dtype\": \"category\",\n        \"num_unique_values\": 3,\n        \"samples\": [\n          \"VXRCS\",\n          \"UDAXI\",\n          \"HHEXD\"\n        ],\n        \"semantic_type\": \"\",\n        \"description\": \"\"\n      }\n    },\n    {\n      \"column\": \"date\",\n      \"properties\": {\n        \"dtype\": \"object\",\n        \"num_unique_values\": 8718,\n        \"samples\": [\n          \"2025-08-06 18:16:20\",\n          \"2024-08-30 21:59:31\",\n          \"2024-06-13 20:10:35\"\n        ],\n        \"semantic_type\": \"\",\n        \"description\": \"\"\n      }\n    },\n    {\n      \"column\": \"cargo\",\n      \"properties\": {\n        \"dtype\": \"number\",\n        \"std\": 20.306529863530823,\n        \"min\": -50.0,\n        \"max\": 100.0,\n        \"num_unique_values\": 108,\n        \"samples\": [\n          69.0,\n          8.0,\n          32.0\n        ],\n        \"semantic_type\": \"\",\n        \"description\": \"\"\n      }\n    },\n    {\n      \"column\": \"station_id\",\n      \"properties\": {\n        \"dtype\": \"category\",\n        \"num_unique_values\": 7,\n        \"samples\": [\n          \"station_B\",\n          \"station_E\",\n          \"station_C\"\n        ],\n        \"semantic_type\": \"\",\n        \"description\": \"\"\n      }\n    },\n    {\n      \"column\": \"event\",\n      \"properties\": {\n        \"dtype\": \"category\",\n        \"num_unique_values\": 6,\n        \"samples\": [\n          \"Descarga de vagones\",\n          \"Comienzo de ruta\",\n          \"Final de ruta\"\n        ],\n        \"semantic_type\": \"\",\n        \"description\": \"\"\n      }\n    },\n    {\n      \"column\": \"cargo_type\",\n      \"properties\": {\n        \"dtype\": \"category\",\n        \"num_unique_values\": 6,\n        \"samples\": [\n          \"Textiles\",\n          \"Machinery\",\n          \"Chemicals\"\n        ],\n        \"semantic_type\": \"\",\n        \"description\": \"\"\n      }\n    },\n    {\n      \"column\": \"fuel_level\",\n      \"properties\": {\n        \"dtype\": \"number\",\n        \"std\": 331.8747928370623,\n        \"min\": -195.0,\n        \"max\": 8731.0,\n        \"num_unique_values\": 4182,\n        \"samples\": [\n          517.0240000000001,\n          577.5,\n          416.0750000000001\n        ],\n        \"semantic_type\": \"\",\n        \"description\": \"\"\n      }\n    },\n    {\n      \"column\": \"ended\",\n      \"properties\": {\n        \"dtype\": \"boolean\",\n        \"num_unique_values\": 1,\n        \"samples\": [\n          true\n        ],\n        \"semantic_type\": \"\",\n        \"description\": \"\"\n      }\n    }\n  ]\n}"
            }
          },
          "metadata": {},
          "execution_count": 4
        }
      ],
      "source": [
        "df.head()"
      ]
    },
    {
      "cell_type": "code",
      "execution_count": 5,
      "metadata": {
        "scrolled": true,
        "colab": {
          "base_uri": "https://localhost:8080/",
          "height": 210
        },
        "id": "MgpEQxgFarDl",
        "outputId": "70699a5d-17bf-4f51-9eac-8c95a11ca884"
      },
      "outputs": [
        {
          "output_type": "execute_result",
          "data": {
            "text/plain": [
              "count                 15426\n",
              "unique                    6\n",
              "top       Salida de vagones\n",
              "freq                   4413\n",
              "Name: event, dtype: object"
            ],
            "text/html": [
              "<div>\n",
              "<style scoped>\n",
              "    .dataframe tbody tr th:only-of-type {\n",
              "        vertical-align: middle;\n",
              "    }\n",
              "\n",
              "    .dataframe tbody tr th {\n",
              "        vertical-align: top;\n",
              "    }\n",
              "\n",
              "    .dataframe thead th {\n",
              "        text-align: right;\n",
              "    }\n",
              "</style>\n",
              "<table border=\"1\" class=\"dataframe\">\n",
              "  <thead>\n",
              "    <tr style=\"text-align: right;\">\n",
              "      <th></th>\n",
              "      <th>event</th>\n",
              "    </tr>\n",
              "  </thead>\n",
              "  <tbody>\n",
              "    <tr>\n",
              "      <th>count</th>\n",
              "      <td>15426</td>\n",
              "    </tr>\n",
              "    <tr>\n",
              "      <th>unique</th>\n",
              "      <td>6</td>\n",
              "    </tr>\n",
              "    <tr>\n",
              "      <th>top</th>\n",
              "      <td>Salida de vagones</td>\n",
              "    </tr>\n",
              "    <tr>\n",
              "      <th>freq</th>\n",
              "      <td>4413</td>\n",
              "    </tr>\n",
              "  </tbody>\n",
              "</table>\n",
              "</div><br><label><b>dtype:</b> object</label>"
            ]
          },
          "metadata": {},
          "execution_count": 5
        }
      ],
      "source": [
        "df.event.describe()"
      ]
    },
    {
      "cell_type": "code",
      "execution_count": 6,
      "metadata": {
        "colab": {
          "base_uri": "https://localhost:8080/"
        },
        "id": "FSNri8XnarDl",
        "outputId": "6c1140f3-6d92-4200-a40f-9971e4202b13"
      },
      "outputs": [
        {
          "output_type": "stream",
          "name": "stdout",
          "text": [
            "<class 'pandas.core.frame.DataFrame'>\n",
            "RangeIndex: 15426 entries, 0 to 15425\n",
            "Data columns (total 10 columns):\n",
            " #   Column      Non-Null Count  Dtype  \n",
            "---  ------      --------------  -----  \n",
            " 0   Unnamed: 0  15426 non-null  int64  \n",
            " 1   trip_id     15426 non-null  object \n",
            " 2   train_name  15426 non-null  object \n",
            " 3   date        15426 non-null  object \n",
            " 4   cargo       15415 non-null  float64\n",
            " 5   station_id  15426 non-null  object \n",
            " 6   event       15426 non-null  object \n",
            " 7   cargo_type  15426 non-null  object \n",
            " 8   fuel_level  15417 non-null  float64\n",
            " 9   ended       15426 non-null  bool   \n",
            "dtypes: bool(1), float64(2), int64(1), object(6)\n",
            "memory usage: 1.1+ MB\n"
          ]
        }
      ],
      "source": [
        "df.info(show_counts=True)"
      ]
    },
    {
      "cell_type": "code",
      "execution_count": 7,
      "metadata": {
        "colab": {
          "base_uri": "https://localhost:8080/",
          "height": 300
        },
        "id": "D7Lx71MyarDl",
        "outputId": "d121087e-e85e-436e-c9c4-0e2027cac992"
      },
      "outputs": [
        {
          "output_type": "execute_result",
          "data": {
            "text/plain": [
              "         Unnamed: 0         cargo    fuel_level\n",
              "count  15426.000000  15415.000000  15417.000000\n",
              "mean    7712.500000     13.521894    606.365736\n",
              "std     4453.246961     20.306530    331.874793\n",
              "min        0.000000    -50.000000   -195.000000\n",
              "25%     3856.250000      0.000000    353.672000\n",
              "50%     7712.500000      3.000000    652.960000\n",
              "75%    11568.750000     19.000000    863.616000\n",
              "max    15425.000000    100.000000   8731.000000"
            ],
            "text/html": [
              "\n",
              "  <div id=\"df-28a4eeb0-0d96-4736-aee5-8ac279434d2c\" class=\"colab-df-container\">\n",
              "    <div>\n",
              "<style scoped>\n",
              "    .dataframe tbody tr th:only-of-type {\n",
              "        vertical-align: middle;\n",
              "    }\n",
              "\n",
              "    .dataframe tbody tr th {\n",
              "        vertical-align: top;\n",
              "    }\n",
              "\n",
              "    .dataframe thead th {\n",
              "        text-align: right;\n",
              "    }\n",
              "</style>\n",
              "<table border=\"1\" class=\"dataframe\">\n",
              "  <thead>\n",
              "    <tr style=\"text-align: right;\">\n",
              "      <th></th>\n",
              "      <th>Unnamed: 0</th>\n",
              "      <th>cargo</th>\n",
              "      <th>fuel_level</th>\n",
              "    </tr>\n",
              "  </thead>\n",
              "  <tbody>\n",
              "    <tr>\n",
              "      <th>count</th>\n",
              "      <td>15426.000000</td>\n",
              "      <td>15415.000000</td>\n",
              "      <td>15417.000000</td>\n",
              "    </tr>\n",
              "    <tr>\n",
              "      <th>mean</th>\n",
              "      <td>7712.500000</td>\n",
              "      <td>13.521894</td>\n",
              "      <td>606.365736</td>\n",
              "    </tr>\n",
              "    <tr>\n",
              "      <th>std</th>\n",
              "      <td>4453.246961</td>\n",
              "      <td>20.306530</td>\n",
              "      <td>331.874793</td>\n",
              "    </tr>\n",
              "    <tr>\n",
              "      <th>min</th>\n",
              "      <td>0.000000</td>\n",
              "      <td>-50.000000</td>\n",
              "      <td>-195.000000</td>\n",
              "    </tr>\n",
              "    <tr>\n",
              "      <th>25%</th>\n",
              "      <td>3856.250000</td>\n",
              "      <td>0.000000</td>\n",
              "      <td>353.672000</td>\n",
              "    </tr>\n",
              "    <tr>\n",
              "      <th>50%</th>\n",
              "      <td>7712.500000</td>\n",
              "      <td>3.000000</td>\n",
              "      <td>652.960000</td>\n",
              "    </tr>\n",
              "    <tr>\n",
              "      <th>75%</th>\n",
              "      <td>11568.750000</td>\n",
              "      <td>19.000000</td>\n",
              "      <td>863.616000</td>\n",
              "    </tr>\n",
              "    <tr>\n",
              "      <th>max</th>\n",
              "      <td>15425.000000</td>\n",
              "      <td>100.000000</td>\n",
              "      <td>8731.000000</td>\n",
              "    </tr>\n",
              "  </tbody>\n",
              "</table>\n",
              "</div>\n",
              "    <div class=\"colab-df-buttons\">\n",
              "\n",
              "  <div class=\"colab-df-container\">\n",
              "    <button class=\"colab-df-convert\" onclick=\"convertToInteractive('df-28a4eeb0-0d96-4736-aee5-8ac279434d2c')\"\n",
              "            title=\"Convert this dataframe to an interactive table.\"\n",
              "            style=\"display:none;\">\n",
              "\n",
              "  <svg xmlns=\"http://www.w3.org/2000/svg\" height=\"24px\" viewBox=\"0 -960 960 960\">\n",
              "    <path d=\"M120-120v-720h720v720H120Zm60-500h600v-160H180v160Zm220 220h160v-160H400v160Zm0 220h160v-160H400v160ZM180-400h160v-160H180v160Zm440 0h160v-160H620v160ZM180-180h160v-160H180v160Zm440 0h160v-160H620v160Z\"/>\n",
              "  </svg>\n",
              "    </button>\n",
              "\n",
              "  <style>\n",
              "    .colab-df-container {\n",
              "      display:flex;\n",
              "      gap: 12px;\n",
              "    }\n",
              "\n",
              "    .colab-df-convert {\n",
              "      background-color: #E8F0FE;\n",
              "      border: none;\n",
              "      border-radius: 50%;\n",
              "      cursor: pointer;\n",
              "      display: none;\n",
              "      fill: #1967D2;\n",
              "      height: 32px;\n",
              "      padding: 0 0 0 0;\n",
              "      width: 32px;\n",
              "    }\n",
              "\n",
              "    .colab-df-convert:hover {\n",
              "      background-color: #E2EBFA;\n",
              "      box-shadow: 0px 1px 2px rgba(60, 64, 67, 0.3), 0px 1px 3px 1px rgba(60, 64, 67, 0.15);\n",
              "      fill: #174EA6;\n",
              "    }\n",
              "\n",
              "    .colab-df-buttons div {\n",
              "      margin-bottom: 4px;\n",
              "    }\n",
              "\n",
              "    [theme=dark] .colab-df-convert {\n",
              "      background-color: #3B4455;\n",
              "      fill: #D2E3FC;\n",
              "    }\n",
              "\n",
              "    [theme=dark] .colab-df-convert:hover {\n",
              "      background-color: #434B5C;\n",
              "      box-shadow: 0px 1px 3px 1px rgba(0, 0, 0, 0.15);\n",
              "      filter: drop-shadow(0px 1px 2px rgba(0, 0, 0, 0.3));\n",
              "      fill: #FFFFFF;\n",
              "    }\n",
              "  </style>\n",
              "\n",
              "    <script>\n",
              "      const buttonEl =\n",
              "        document.querySelector('#df-28a4eeb0-0d96-4736-aee5-8ac279434d2c button.colab-df-convert');\n",
              "      buttonEl.style.display =\n",
              "        google.colab.kernel.accessAllowed ? 'block' : 'none';\n",
              "\n",
              "      async function convertToInteractive(key) {\n",
              "        const element = document.querySelector('#df-28a4eeb0-0d96-4736-aee5-8ac279434d2c');\n",
              "        const dataTable =\n",
              "          await google.colab.kernel.invokeFunction('convertToInteractive',\n",
              "                                                    [key], {});\n",
              "        if (!dataTable) return;\n",
              "\n",
              "        const docLinkHtml = 'Like what you see? Visit the ' +\n",
              "          '<a target=\"_blank\" href=https://colab.research.google.com/notebooks/data_table.ipynb>data table notebook</a>'\n",
              "          + ' to learn more about interactive tables.';\n",
              "        element.innerHTML = '';\n",
              "        dataTable['output_type'] = 'display_data';\n",
              "        await google.colab.output.renderOutput(dataTable, element);\n",
              "        const docLink = document.createElement('div');\n",
              "        docLink.innerHTML = docLinkHtml;\n",
              "        element.appendChild(docLink);\n",
              "      }\n",
              "    </script>\n",
              "  </div>\n",
              "\n",
              "\n",
              "    <div id=\"df-7c08663c-9df9-43e9-b403-522835f5ac11\">\n",
              "      <button class=\"colab-df-quickchart\" onclick=\"quickchart('df-7c08663c-9df9-43e9-b403-522835f5ac11')\"\n",
              "                title=\"Suggest charts\"\n",
              "                style=\"display:none;\">\n",
              "\n",
              "<svg xmlns=\"http://www.w3.org/2000/svg\" height=\"24px\"viewBox=\"0 0 24 24\"\n",
              "     width=\"24px\">\n",
              "    <g>\n",
              "        <path d=\"M19 3H5c-1.1 0-2 .9-2 2v14c0 1.1.9 2 2 2h14c1.1 0 2-.9 2-2V5c0-1.1-.9-2-2-2zM9 17H7v-7h2v7zm4 0h-2V7h2v10zm4 0h-2v-4h2v4z\"/>\n",
              "    </g>\n",
              "</svg>\n",
              "      </button>\n",
              "\n",
              "<style>\n",
              "  .colab-df-quickchart {\n",
              "      --bg-color: #E8F0FE;\n",
              "      --fill-color: #1967D2;\n",
              "      --hover-bg-color: #E2EBFA;\n",
              "      --hover-fill-color: #174EA6;\n",
              "      --disabled-fill-color: #AAA;\n",
              "      --disabled-bg-color: #DDD;\n",
              "  }\n",
              "\n",
              "  [theme=dark] .colab-df-quickchart {\n",
              "      --bg-color: #3B4455;\n",
              "      --fill-color: #D2E3FC;\n",
              "      --hover-bg-color: #434B5C;\n",
              "      --hover-fill-color: #FFFFFF;\n",
              "      --disabled-bg-color: #3B4455;\n",
              "      --disabled-fill-color: #666;\n",
              "  }\n",
              "\n",
              "  .colab-df-quickchart {\n",
              "    background-color: var(--bg-color);\n",
              "    border: none;\n",
              "    border-radius: 50%;\n",
              "    cursor: pointer;\n",
              "    display: none;\n",
              "    fill: var(--fill-color);\n",
              "    height: 32px;\n",
              "    padding: 0;\n",
              "    width: 32px;\n",
              "  }\n",
              "\n",
              "  .colab-df-quickchart:hover {\n",
              "    background-color: var(--hover-bg-color);\n",
              "    box-shadow: 0 1px 2px rgba(60, 64, 67, 0.3), 0 1px 3px 1px rgba(60, 64, 67, 0.15);\n",
              "    fill: var(--button-hover-fill-color);\n",
              "  }\n",
              "\n",
              "  .colab-df-quickchart-complete:disabled,\n",
              "  .colab-df-quickchart-complete:disabled:hover {\n",
              "    background-color: var(--disabled-bg-color);\n",
              "    fill: var(--disabled-fill-color);\n",
              "    box-shadow: none;\n",
              "  }\n",
              "\n",
              "  .colab-df-spinner {\n",
              "    border: 2px solid var(--fill-color);\n",
              "    border-color: transparent;\n",
              "    border-bottom-color: var(--fill-color);\n",
              "    animation:\n",
              "      spin 1s steps(1) infinite;\n",
              "  }\n",
              "\n",
              "  @keyframes spin {\n",
              "    0% {\n",
              "      border-color: transparent;\n",
              "      border-bottom-color: var(--fill-color);\n",
              "      border-left-color: var(--fill-color);\n",
              "    }\n",
              "    20% {\n",
              "      border-color: transparent;\n",
              "      border-left-color: var(--fill-color);\n",
              "      border-top-color: var(--fill-color);\n",
              "    }\n",
              "    30% {\n",
              "      border-color: transparent;\n",
              "      border-left-color: var(--fill-color);\n",
              "      border-top-color: var(--fill-color);\n",
              "      border-right-color: var(--fill-color);\n",
              "    }\n",
              "    40% {\n",
              "      border-color: transparent;\n",
              "      border-right-color: var(--fill-color);\n",
              "      border-top-color: var(--fill-color);\n",
              "    }\n",
              "    60% {\n",
              "      border-color: transparent;\n",
              "      border-right-color: var(--fill-color);\n",
              "    }\n",
              "    80% {\n",
              "      border-color: transparent;\n",
              "      border-right-color: var(--fill-color);\n",
              "      border-bottom-color: var(--fill-color);\n",
              "    }\n",
              "    90% {\n",
              "      border-color: transparent;\n",
              "      border-bottom-color: var(--fill-color);\n",
              "    }\n",
              "  }\n",
              "</style>\n",
              "\n",
              "      <script>\n",
              "        async function quickchart(key) {\n",
              "          const quickchartButtonEl =\n",
              "            document.querySelector('#' + key + ' button');\n",
              "          quickchartButtonEl.disabled = true;  // To prevent multiple clicks.\n",
              "          quickchartButtonEl.classList.add('colab-df-spinner');\n",
              "          try {\n",
              "            const charts = await google.colab.kernel.invokeFunction(\n",
              "                'suggestCharts', [key], {});\n",
              "          } catch (error) {\n",
              "            console.error('Error during call to suggestCharts:', error);\n",
              "          }\n",
              "          quickchartButtonEl.classList.remove('colab-df-spinner');\n",
              "          quickchartButtonEl.classList.add('colab-df-quickchart-complete');\n",
              "        }\n",
              "        (() => {\n",
              "          let quickchartButtonEl =\n",
              "            document.querySelector('#df-7c08663c-9df9-43e9-b403-522835f5ac11 button');\n",
              "          quickchartButtonEl.style.display =\n",
              "            google.colab.kernel.accessAllowed ? 'block' : 'none';\n",
              "        })();\n",
              "      </script>\n",
              "    </div>\n",
              "\n",
              "    </div>\n",
              "  </div>\n"
            ],
            "application/vnd.google.colaboratory.intrinsic+json": {
              "type": "dataframe",
              "summary": "{\n  \"name\": \"df\",\n  \"rows\": 8,\n  \"fields\": [\n    {\n      \"column\": \"Unnamed: 0\",\n      \"properties\": {\n        \"dtype\": \"number\",\n        \"std\": 5559.38606251768,\n        \"min\": 0.0,\n        \"max\": 15426.0,\n        \"num_unique_values\": 7,\n        \"samples\": [\n          15426.0,\n          7712.5,\n          11568.75\n        ],\n        \"semantic_type\": \"\",\n        \"description\": \"\"\n      }\n    },\n    {\n      \"column\": \"cargo\",\n      \"properties\": {\n        \"dtype\": \"number\",\n        \"std\": 5444.836030922181,\n        \"min\": -50.0,\n        \"max\": 15415.0,\n        \"num_unique_values\": 8,\n        \"samples\": [\n          13.521894258838794,\n          3.0,\n          15415.0\n        ],\n        \"semantic_type\": \"\",\n        \"description\": \"\"\n      }\n    },\n    {\n      \"column\": \"fuel_level\",\n      \"properties\": {\n        \"dtype\": \"number\",\n        \"std\": 5684.631034483714,\n        \"min\": -195.0,\n        \"max\": 15417.0,\n        \"num_unique_values\": 8,\n        \"samples\": [\n          606.3657363948888,\n          652.9599999999999,\n          15417.0\n        ],\n        \"semantic_type\": \"\",\n        \"description\": \"\"\n      }\n    }\n  ]\n}"
            }
          },
          "metadata": {},
          "execution_count": 7
        }
      ],
      "source": [
        "df.describe()"
      ]
    },
    {
      "cell_type": "code",
      "execution_count": null,
      "metadata": {
        "id": "SXQgerDwarDl"
      },
      "outputs": [],
      "source": [
        "# Use as many cells as you need for your exploration"
      ]
    },
    {
      "cell_type": "markdown",
      "metadata": {
        "id": "qqz0aEZDarDl"
      },
      "source": [
        "# Data Cleaning\n",
        "After a first view of the data and before starting to work with it, we must clean it. This process is called preprocessing, and it is crucial to be able to obtain good results. We will discard invalid data, fill missing values, drop redundant information, correct typos, etc. We need to create a data set with the following restrictions.\n",
        "\n",
        "* All columns must contain relevant information. If a column does not contain relevant information, it should be removed using the method `data.drop(columns = [column_name])` (https://pandas.pydata.org/docs/reference/api/pandas.DataFrame.drop.html)\n",
        "* Duplicate rows should be removed using the method `data.drop_duplicates()` (https://pandas.pydata.org/docs/reference/api/pandas.DataFrame.drop_duplicates.html)\n",
        "* Rows with future dates (after September 30, 2025) should be eliminated\n",
        "* All fields should have a valid value.\n",
        "* String columns cannot be empty or null\n",
        "* Numeric columns should be in the correct ranges. The maximum cargo is 200 and the maximum fuel 2000.\n",
        "* Rows with null or incorrect values should be discarded (https://pandas.pydata.org/pandas-docs/stable/user_guide/missing_data.html). This includes rows with illegal values according to the dataset description (e.g. a negative number of items).\n",
        "* The types of the columns must correspond to the type of data they contain (https://pandas.pydata.org/pandas-docs/stable/reference/api/pandas.DataFrame.astype.html)\n",
        "\n",
        "Python and Pandas have a multitude of methods that make it easier to work with dates. In this workshop, it can be useful to use methods that allow us to obtain certain fragments of a date (hour of day, the day of the week, etc.) https://docs.python.org/3/library/datetime.html. An effective way to apply a change to an entire column is with a syntax like `df.date.dt.hour`, which allows us to get the hour of the dates in the column `date`"
      ]
    },
    {
      "cell_type": "code",
      "execution_count": 10,
      "metadata": {
        "colab": {
          "base_uri": "https://localhost:8080/"
        },
        "id": "Bvf56FNfarDm",
        "outputId": "7da7f1c1-9130-45e2-878e-e0b091fd1b59"
      },
      "outputs": [
        {
          "output_type": "stream",
          "name": "stdout",
          "text": [
            "<class 'pandas.core.frame.DataFrame'>\n",
            "Index: 15372 entries, 0 to 15425\n",
            "Data columns (total 9 columns):\n",
            " #   Column      Non-Null Count  Dtype         \n",
            "---  ------      --------------  -----         \n",
            " 0   trip_id     15372 non-null  object        \n",
            " 1   train_name  15372 non-null  object        \n",
            " 2   date        15372 non-null  datetime64[ns]\n",
            " 3   cargo       15372 non-null  float64       \n",
            " 4   station_id  15372 non-null  object        \n",
            " 5   event       15372 non-null  object        \n",
            " 6   cargo_type  15372 non-null  object        \n",
            " 7   fuel_level  15372 non-null  float64       \n",
            " 8   ended       15372 non-null  bool          \n",
            "dtypes: bool(1), datetime64[ns](1), float64(2), object(5)\n",
            "memory usage: 1.1+ MB\n",
            "None\n",
            "           trip_id train_name                           date         cargo  \\\n",
            "count        15372      15372                          15372  15372.000000   \n",
            "unique         732          3                            NaN           NaN   \n",
            "top     BYY2CONYL1      UDAXI                            NaN           NaN   \n",
            "freq            21       8379                            NaN           NaN   \n",
            "mean           NaN        NaN  2025-01-13 17:57:20.665690880     13.537926   \n",
            "min            NaN        NaN            2024-06-01 10:00:00      0.000000   \n",
            "25%            NaN        NaN            2024-09-20 06:54:11      0.000000   \n",
            "50%            NaN        NaN            2025-01-11 18:06:38      3.000000   \n",
            "75%            NaN        NaN  2025-05-08 15:40:24.750000128     19.000000   \n",
            "max            NaN        NaN            2025-08-30 21:29:38    100.000000   \n",
            "std            NaN        NaN                            NaN     20.279398   \n",
            "\n",
            "       station_id                event   cargo_type    fuel_level  ended  \n",
            "count       15372                15372        15372  15372.000000  15372  \n",
            "unique          7                    6            6           NaN      1  \n",
            "top     station_B  Descarga de vagones  Electronics           NaN   True  \n",
            "freq         2196                 4392         3280           NaN  15372  \n",
            "mean          NaN                  NaN          NaN    605.364627    NaN  \n",
            "min           NaN                  NaN          NaN      0.000000    NaN  \n",
            "25%           NaN                  NaN          NaN    353.693000    NaN  \n",
            "50%           NaN                  NaN          NaN    652.900000    NaN  \n",
            "75%           NaN                  NaN          NaN    863.716000    NaN  \n",
            "max           NaN                  NaN          NaN   1200.000000    NaN  \n",
            "std           NaN                  NaN          NaN    318.225924    NaN  \n",
            "      trip_id train_name                date  cargo station_id  \\\n",
            "0  93OBAJQT4H      VXRCS 2025-04-02 10:57:44   24.0  station_B   \n",
            "1  95DWY7U00J      VXRCS 2024-09-18 14:29:50    0.0  station_E   \n",
            "2  G2IJESVUP4      UDAXI 2025-06-25 18:00:00    0.0  station_A   \n",
            "3  OTSN5U4W9R      VXRCS 2024-09-06 13:16:24    0.0  station_D   \n",
            "4  87C7G23CP7      HHEXD 2025-02-06 15:21:28    0.0  station_G   \n",
            "\n",
            "                 event   cargo_type  fuel_level  ended  \n",
            "0  Descarga de vagones     Textiles    1146.000   True  \n",
            "1  Descarga de vagones    Machinery       0.000   True  \n",
            "2     Comienzo de ruta            _     590.056   True  \n",
            "3   Llegada de vagones  Electronics    1031.616   True  \n",
            "4   Llegada de vagones    Machinery     179.750   True  \n"
          ]
        }
      ],
      "source": [
        "# Convert dates\n",
        "df['date'] = pd.to_datetime(df['date'], errors='coerce')\n",
        "\n",
        "# Drop irrelevant columns (in your case: 'Unnamed: 0')\n",
        "df = df.drop(columns=['Unnamed: 0'], errors='ignore')\n",
        "\n",
        "# Drop duplicates\n",
        "df = df.drop_duplicates()\n",
        "\n",
        "# Remove future dates\n",
        "df = df[df['date'] <= '2025-09-30']\n",
        "\n",
        "# Remove nulls or empty strings\n",
        "df = df.dropna()\n",
        "df = df[df['event'].str.strip() != '']\n",
        "\n",
        "# Filter by valid numeric ranges\n",
        "df = df[(df['cargo'].between(0, 200)) & (df['fuel_level'].between(0, 2000))]\n",
        "\n",
        "# Fix types\n",
        "df = df.astype({'cargo': float, 'fuel_level': float, 'event': str})\n",
        "\n",
        "# Show data\n",
        "print(df.info())\n",
        "print(df.describe(include='all'))\n",
        "print(df.head())"
      ]
    },
    {
      "cell_type": "markdown",
      "metadata": {
        "id": "8aHuX-ZOarDm"
      },
      "source": [
        "# Data Analytics\n",
        "\n",
        "Once we know about the data that we are using and have cleaned it, we need to ask what kind of useful information we can extract from those data. It is a good idea to make a kind of brainstorming of possible questions, then take the list of resulting questions and sort them by their difficulty, and finally begin to answer them starting with the easiest ones. For this session, that process has already been done for you, and the questions are already sorted by difficulty. In some cases, the answer to a question can be obtained from a graphic, so use them to your advantage.\n",
        "\n",
        "Those questions are grouped into 10 blocks. All questions in a block can be solved using the same strategy; e.g., to answer \"What was the maximum number of packages transported in a train?\" or \"What was the minimum number of packages transported in a train?\", we will make the same process, but changing the function that we apply to the data. Your task is to answer at least one question in each block. At the end of the workshop session, you will fill out a Moodle questionnaire with 10 questions, one for each block."
      ]
    },
    {
      "cell_type": "markdown",
      "metadata": {
        "id": "R_tglkidarDm"
      },
      "source": [
        "## Block 0\n",
        "\n",
        "- How many records are in the dataset?\n",
        "- How many columns are in the dataset?"
      ]
    },
    {
      "cell_type": "code",
      "execution_count": 17,
      "metadata": {
        "colab": {
          "base_uri": "https://localhost:8080/"
        },
        "id": "y93miic0arDm",
        "outputId": "d9f67f9a-3c06-4467-99da-3e1d3beec715"
      },
      "outputs": [
        {
          "output_type": "stream",
          "name": "stdout",
          "text": [
            "Number of records: 15372\n",
            "Number of records: 9\n"
          ]
        }
      ],
      "source": [
        "\n",
        "print(\"Number of records:\", df.shape[0])\n",
        "\n",
        "print(\"Number of columns:\", df.shape[1])\n"
      ]
    },
    {
      "cell_type": "markdown",
      "metadata": {
        "id": "tR9ZWK1ParDm"
      },
      "source": [
        "## Block 1\n",
        "\n",
        "- How many trains are in the dataset?\n",
        "- How many stations are in the dataset?\n",
        "- How many trips are in the dataset?\n",
        "- How many different cargo types are in the dataset?"
      ]
    },
    {
      "cell_type": "code",
      "execution_count": 18,
      "metadata": {
        "colab": {
          "base_uri": "https://localhost:8080/"
        },
        "id": "rhcxdlkIarDm",
        "outputId": "8dcaa3d6-c182-4ef0-d5c3-b88ffb802456"
      },
      "outputs": [
        {
          "output_type": "stream",
          "name": "stdout",
          "text": [
            "Number of trains: 3\n",
            "Number of stations: 7\n",
            "Number of trips: 732\n",
            "Number of cargo types: 6\n"
          ]
        }
      ],
      "source": [
        "# Number of trains\n",
        "num_trains = df['train_name'].nunique()\n",
        "print(\"Number of trains:\", num_trains)\n",
        "\n",
        "# Number of stations\n",
        "num_stations = df['station_id'].nunique()\n",
        "print(\"Number of stations:\", num_stations)\n",
        "\n",
        "# Number of trips\n",
        "num_trips = df['trip_id'].nunique()\n",
        "print(\"Number of trips:\", num_trips)\n",
        "\n",
        "# Number of cargos\n",
        "num_cargo_types = df['cargo_type'].nunique()\n",
        "print(\"Number of cargo types:\", num_cargo_types)\n"
      ]
    },
    {
      "cell_type": "markdown",
      "metadata": {
        "id": "PEtl2k5MarDm"
      },
      "source": [
        "## Block 2\n",
        "\n",
        "- How many packages did train UDAXI transport?\n",
        "- How many packages of Chemicals were transported?\n",
        "- What is the maximum cargo carried by train UDAXI?"
      ]
    },
    {
      "cell_type": "code",
      "execution_count": 20,
      "metadata": {
        "colab": {
          "base_uri": "https://localhost:8080/"
        },
        "id": "IxAUBjyuarDm",
        "outputId": "a89d42d1-3b5b-47b8-948b-971bab2d0943"
      },
      "outputs": [
        {
          "output_type": "stream",
          "name": "stdout",
          "text": [
            "Total cargo transported by UDAXI: 135660.0\n",
            "Total cargo transported for Chemicals: 41409.0\n",
            "Maximum cargo carried by UDAXI: 100.0\n"
          ]
        }
      ],
      "source": [
        "# Write your code here\n",
        "\n",
        "cargo_udaxi = df.loc[df[\"train_name\"] == \"UDAXI\", \"cargo\"].sum()\n",
        "print(\"Total cargo transported by UDAXI:\", round(cargo_udaxi, 2))\n",
        "\n",
        "cargo_chemicals = df.loc[df[\"cargo_type\"].str.lower() == \"chemicals\", \"cargo\"].sum()\n",
        "print(\"Total cargo transported for Chemicals:\", round(cargo_chemicals, 2))\n",
        "\n",
        "max_cargo_udaxi = df.loc[df[\"train_name\"] == \"UDAXI\", \"cargo\"].max()\n",
        "print(\"Maximum cargo carried by UDAXI:\", round(max_cargo_udaxi, 2))"
      ]
    },
    {
      "cell_type": "markdown",
      "metadata": {
        "id": "GHcrBiDParDm"
      },
      "source": [
        "## Block 3\n",
        "- Which cargo type was transported the most?\n",
        "- Which train made more trips?\n",
        "- Which train transported the most packages?"
      ]
    },
    {
      "cell_type": "code",
      "execution_count": 24,
      "metadata": {
        "colab": {
          "base_uri": "https://localhost:8080/"
        },
        "id": "vSi2kOilarDm",
        "outputId": "63cd7328-054a-4e47-c196-3f031ea87da5"
      },
      "outputs": [
        {
          "output_type": "stream",
          "name": "stdout",
          "text": [
            "Most transported cargo type: Electronics\n",
            "Train with more trips: UDAXI\n",
            "Train with most cargo transported: UDAXI\n"
          ]
        }
      ],
      "source": [
        "# Write your code here\n",
        "\n",
        "top_cargo_type = (df.groupby(\"cargo_type\")[\"cargo\"].sum().sort_values(ascending=False).head(1))\n",
        "print(\"Most transported cargo type:\", top_cargo_type.index[0])\n",
        "\n",
        "top_train_trips = df.groupby(\"train_name\")[\"trip_id\"].count().sort_values(ascending=False).head(1)\n",
        "print(\"Train with more trips:\", top_train_trips.index[0])\n",
        "\n",
        "top_train_cargo = df.groupby(\"train_name\")[\"cargo\"].sum().sort_values(ascending=False).head(1)\n",
        "print(\"Train with most cargo transported:\", top_train_cargo.index[0])\n"
      ]
    },
    {
      "cell_type": "markdown",
      "metadata": {
        "id": "7uH4NIkTarDn"
      },
      "source": [
        "## Block 4\n",
        "- How many trips were made in January?\n",
        "- How many packages were transported on Mondays?"
      ]
    },
    {
      "cell_type": "code",
      "execution_count": 25,
      "metadata": {
        "colab": {
          "base_uri": "https://localhost:8080/"
        },
        "id": "zlph7bqwarDn",
        "outputId": "91874292-dd5f-4dc7-ebd8-6ef2c75223a4"
      },
      "outputs": [
        {
          "output_type": "stream",
          "name": "stdout",
          "text": [
            "Number of trips made in January: 51\n",
            "Total packages transported on Mondays: 39795.0\n"
          ]
        }
      ],
      "source": [
        "# Write your code here\n",
        "trips_january = df.loc[df[\"date\"].dt.month == 1, \"trip_id\"].nunique()\n",
        "print(\"Number of trips made in January:\", trips_january)\n",
        "\n",
        "cargo_monday = df.loc[df[\"date\"].dt.day_name() == \"Monday\", \"cargo\"].sum()\n",
        "print(\"Total packages transported on Mondays:\", round(cargo_monday, 2))"
      ]
    },
    {
      "cell_type": "markdown",
      "metadata": {
        "id": "gIXRZY3GarDn"
      },
      "source": [
        "## Block 5\n",
        "- Which train has the best fuel efficiency (lowest average consumption)?\n",
        "- Which train has the worst fuel efficiency (maximum average consumption)?\n",
        "- What is the average fuel consumption in the whole trip for Textiles?\n",
        "- How long lasted the shortest trip?\n",
        "- How long lasted the longest trip?"
      ]
    },
    {
      "cell_type": "code",
      "execution_count": 29,
      "metadata": {
        "colab": {
          "base_uri": "https://localhost:8080/"
        },
        "id": "NgwMrqO3arDn",
        "outputId": "2922d6a9-a2a5-443b-c136-3cecfef8e323"
      },
      "outputs": [
        {
          "output_type": "stream",
          "name": "stdout",
          "text": [
            "Best efficiency: HHEXD  Avg fuel: 539.33\n",
            "Worst efficiency: VXRCS  Avg fuel: 734.74\n",
            "Avg fuel consumption for Textiles: 670.99\n",
            "Shortest trip duration: 0 days 03:15:42\n",
            "Longest trip duration: 0 days 08:54:11\n"
          ]
        }
      ],
      "source": [
        "# Write your code here\n",
        "\n",
        "# Average fuel per train\n",
        "avg_fuel_per_train = df.groupby(\"train_name\")[\"fuel_level\"].mean()\n",
        "\n",
        "# Best and worst fuel efficiency\n",
        "best_fuel_train = avg_fuel_per_train.idxmin()\n",
        "worst_fuel_train = avg_fuel_per_train.idxmax()\n",
        "\n",
        "print(\"Best efficiency:\", best_fuel_train, \" Avg fuel:\", round(avg_fuel_per_train.min(), 2))\n",
        "print(\"Worst efficiency:\", worst_fuel_train,\" Avg fuel:\", round(avg_fuel_per_train.max(), 2))\n",
        "\n",
        "# Average fuel for Textiles\n",
        "avg_fuel_textiles = df.loc[df[\"cargo_type\"].str.lower() == \"textiles\", \"fuel_level\"].mean()\n",
        "print(\"Avg fuel consumption for Textiles:\", round(avg_fuel_textiles, 2))\n",
        "\n",
        "# Trip durations\n",
        "df['date'] = pd.to_datetime(df['date'], errors='coerce')\n",
        "\n",
        "# Compute trip durations: difference between first and last event per trip\n",
        "trip_durations = df.groupby('trip_id')['date'].agg(['min', 'max'])\n",
        "trip_durations['duration'] = trip_durations['max'] - trip_durations['min']\n",
        "\n",
        "# Identify shortest and longest trips\n",
        "shortest_trip = trip_durations['duration'].min()\n",
        "longest_trip = trip_durations['duration'].max()\n",
        "\n",
        "print(\"Shortest trip duration:\", shortest_trip)\n",
        "print(\"Longest trip duration:\", longest_trip)\n"
      ]
    }
  ],
  "metadata": {
    "kernelspec": {
      "display_name": "Python 3",
      "language": "python",
      "name": "python3"
    },
    "language_info": {
      "codemirror_mode": {
        "name": "ipython",
        "version": 3
      },
      "file_extension": ".py",
      "mimetype": "text/x-python",
      "name": "python",
      "nbconvert_exporter": "python",
      "pygments_lexer": "ipython3",
      "version": "3.10.6"
    },
    "colab": {
      "provenance": []
    }
  },
  "nbformat": 4,
  "nbformat_minor": 0
}